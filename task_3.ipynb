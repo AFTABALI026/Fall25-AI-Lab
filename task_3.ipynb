{
 "cells": [
  {
   "cell_type": "code",
   "execution_count": null,
   "id": "79bba9ac",
   "metadata": {
    "vscode": {
     "languageId": "plaintext"
    }
   },
   "outputs": [],
   "source": [
    "class ModelBasedReflexAgent:\n",
    "    def __init__(self, desired_temp):\n",
    "        self.fixed_temp = desired_temp\n",
    "        self.current_temp = None\n",
    "        self.previous_action = None\n",
    "\n",
    "    def sensor(self, temp):\n",
    "        self.current_temp = temp\n",
    "\n",
    "    def performance(self):\n",
    "        if self.current_temp is None:\n",
    "            return \"No temperature data\"\n",
    "\n",
    "        if self.current_temp > self.fixed_temp:\n",
    "            action = \"Turn on the AC\"\n",
    "        elif self.current_temp < self.fixed_temp:\n",
    "            action = \"Turn on the Heater\"\n",
    "        else:\n",
    "            action = \"Already Optimal\"\n",
    "\n",
    "        if action == self.previous_action:\n",
    "            return \"already optimal\"\n",
    "        \n",
    "        self.previous_action = action\n",
    "        return action\n",
    "\n",
    "    def actuator(self):\n",
    "        action = self.performance()\n",
    "        print(f\"Room Tem\n"
   ]
  }
 ],
 "metadata": {
  "language_info": {
   "name": "python"
  }
 },
 "nbformat": 4,
 "nbformat_minor": 5
}
