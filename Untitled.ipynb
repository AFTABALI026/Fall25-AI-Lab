{
 "cells": [
  {
   "cell_type": "code",
   "execution_count": 1,
   "id": "9da995c2-5012-47f0-926b-64de62dd6325",
   "metadata": {},
   "outputs": [
    {
     "name": "stdout",
     "output_type": "stream",
     "text": [
      "\n",
      "--- Different Methods to Clean Text ---\n",
      "\n",
      "Method 1: \n"
     ]
    }
   ],
   "source": [
    "#TASK 1\n",
    "text = input(\"Enter Text: \")\n",
    "\n",
    "print(\"\\n--- Different Methods to Clean Text ---\\n\")\n",
    "clean1 = \"\"\n",
    "for i in range(len(text)):\n",
    "    if text[i].isalnum() or text[i] == ' ':\n",
    "        clean1 += text[i]\n",
    "print(\"Method 1:\", clean1)\n",
    "\n",
    "\n"
   ]
  },
  {
   "cell_type": "code",
   "execution_count": 2,
   "id": "79d4e408-74ed-4cd9-acb3-3c81ca0746ca",
   "metadata": {},
   "outputs": [
    {
     "name": "stdout",
     "output_type": "stream",
     "text": [
      "Original Text: \n",
      "Cleaned Text: \n"
     ]
    }
   ],
   "source": [
    "text = input(\"Enter Text: \")\n",
    "print(\"Original Text:\", text)\n",
    "\n",
    "clean_text = \"\"\n",
    "for i in range(len(text)):\n",
    "    if text[i].isalnum() or text[i] == '':\n",
    "        clean_text += text[i]\n",
    "\n",
    "print(\"Cleaned Text:\", clean_text)"
   ]
  },
  {
   "cell_type": "code",
   "execution_count": null,
   "id": "4669c7e1-915e-40a0-b4d9-653350d2801f",
   "metadata": {},
   "outputs": [],
   "source": []
  }
 ],
 "metadata": {
  "kernelspec": {
   "display_name": "base",
   "language": "python",
   "name": "python3"
  },
  "language_info": {
   "codemirror_mode": {
    "name": "ipython",
    "version": 3
   },
   "file_extension": ".py",
   "mimetype": "text/x-python",
   "name": "python",
   "nbconvert_exporter": "python",
   "pygments_lexer": "ipython3",
   "version": "3.12.7"
  }
 },
 "nbformat": 4,
 "nbformat_minor": 5
}
