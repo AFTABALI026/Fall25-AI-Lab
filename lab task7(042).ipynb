{
 "cells": [
  {
   "cell_type": "code",
   "execution_count": 2,
   "id": "4737d76b",
   "metadata": {},
   "outputs": [
    {
     "name": "stdout",
     "output_type": "stream",
     "text": [
      "✅ Route Found: A → B → D\n"
     ]
    }
   ],
   "source": [
    "class RouteFinder:\n",
    "    def __init__(self, connections):\n",
    "        self.connections = connections\n",
    "\n",
    "    def estimate_cost(self, node):\n",
    "        return 1\n",
    "\n",
    "    def find_route(self, start_node, target_node):\n",
    "        open_nodes = {start_node}\n",
    "        visited_nodes = set()\n",
    "        travel_cost = {start_node: 0}\n",
    "        previous_node = {start_node: None}\n",
    "\n",
    "        while open_nodes:\n",
    "            # Choose node with minimum total cost (g + h)\n",
    "            current_node = min(open_nodes, key=lambda n: travel_cost[n] + self.estimate_cost(n))\n",
    "\n",
    "            if current_node == target_node:\n",
    "                path = []\n",
    "                while current_node:\n",
    "                    path.append(current_node)\n",
    "                    current_node = previous_node[current_node]\n",
    "                path.reverse()\n",
    "                print(\"✅ Route Found:\", \" → \".join(path))\n",
    "                return\n",
    "\n",
    "            open_nodes.remove(current_node)\n",
    "            visited_nodes.add(current_node)\n",
    "\n",
    "            for neighbor, step_cost in self.connections.get(current_node, []):\n",
    "                if neighbor in visited_nodes:\n",
    "                    continue\n",
    "\n",
    "                new_total_cost = travel_cost[current_node] + step_cost\n",
    "\n",
    "                if neighbor not in open_nodes or new_total_cost < travel_cost.get(neighbor, float('inf')):\n",
    "                    travel_cost[neighbor] = new_total_cost\n",
    "                    previous_node[neighbor] = current_node\n",
    "                    open_nodes.add(neighbor)\n",
    "\n",
    "        print(\"No route exists between the given nodes!\")\n",
    "\n",
    "network = {\n",
    "    'A': [('B', 1), ('C', 3), ('D', 7)],\n",
    "    'B': [('D', 5)],\n",
    "    'C': [('D', 12)]\n",
    "}\n",
    "route = RouteFinder(network)\n",
    "route.find_route('A', 'D')\n",
    "\n"
   ]
  },
  {
   "cell_type": "code",
   "execution_count": null,
   "id": "2cfda6ab",
   "metadata": {},
   "outputs": [],
   "source": []
  }
 ],
 "metadata": {
  "kernelspec": {
   "display_name": "Python 3",
   "language": "python",
   "name": "python3"
  },
  "language_info": {
   "codemirror_mode": {
    "name": "ipython",
    "version": 3
   },
   "file_extension": ".py",
   "mimetype": "text/x-python",
   "name": "python",
   "nbconvert_exporter": "python",
   "pygments_lexer": "ipython3",
   "version": "3.13.0"
  }
 },
 "nbformat": 4,
 "nbformat_minor": 5
}
