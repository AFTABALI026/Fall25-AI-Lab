{
 "cells": [
  {
   "cell_type": "code",
   "execution_count": null,
   "id": "c026ddad-4147-4d30-b173-5b27637b65ce",
   "metadata": {},
   "outputs": [],
   "source": [
    "network = {\n",
    "    'P': ['Q', 'R'],\n",
    "    'Q': ['S', 'T'],\n",
    "    'R': ['U'],\n",
    "    'S': ['V', 'W'],\n",
    "    'T': [],\n",
    "    'U': ['X', 'Y'],\n",
    "    'V': [],\n",
    "    'W': ['Z'],\n",
    "    'X': [],\n",
    "    'Y': ['AA'],\n",
    "    'Z': [],\n",
    "    'AA': []\n",
    "}\n",
    "\n",
    "def dfs_stack(source, target):\n",
    "    if source not in network or target not in network:\n",
    "        print(\"Source or target not found in network!\")\n",
    "        return None\n",
    "    \n",
    "    stack_ds = [(source, [source])]\n",
    "    \n",
    "    while stack_ds:\n",
    "        current, route = stack_ds.pop()\n",
    "        print(\"Now checking:\", current)\n",
    "\n",
    "        if current == target:\n",
    "            return route\n",
    "\n",
    "        for neighbor in reversed(network[current]):\n",
    "            if neighbor not in route:\n",
    "                stack_ds.append((neighbor, route + [neighbor]))\n",
    "\n",
    "\n",
    "print(dfs_stack(\"P\", \"Z\"))"
   ]
  },
  {
   "cell_type": "markdown",
   "id": "d1f1d649-6822-4e01-847a-820e878c77d5",
   "metadata": {},
   "source": [
    "# AI Lab Task 6"
   ]
  },
  {
   "cell_type": "code",
   "execution_count": null,
   "id": "ed931f90-33ce-4e28-8625-a07b29efb600",
   "metadata": {},
   "outputs": [
    {
     "name": "stdout",
     "output_type": "stream",
     "text": [
      "Enter the goal state:  AA\n",
      "Enter the maximum depth limit:  6\n"
     ]
    },
    {
     "name": "stdout",
     "output_type": "stream",
     "text": [
      "Depth: 0  Node: P\n",
      "Depth: 1  Node: Q\n",
      "Depth: 2  Node: S\n",
      "Depth: 3  Node: V\n",
      "Depth: 3  Node: W\n",
      "Depth: 4  Node: Z\n",
      "Depth: 2  Node: T\n",
      "Depth: 1  Node: R\n",
      "Depth: 2  Node: U\n",
      "Depth: 3  Node: X\n",
      "Depth: 3  Node: Y\n",
      "Depth: 4  Node: AA\n",
      "Path found: ['P', 'R', 'U', 'Y', 'AA']\n"
     ]
    }
   ],
   "source": [
    "network_map = { \n",
    "    'P': ['Q', 'R'], \n",
    "    'Q': ['S', 'T'], \n",
    "    'R': ['U'], \n",
    "    'S': ['V', 'W'], \n",
    "    'T': [], \n",
    "    'U': ['X', 'Y'], \n",
    "    'V': [], \n",
    "    'W': ['Z'], \n",
    "    'X': [], \n",
    "    'Y': ['AA'], \n",
    "    'Z': [], \n",
    "    'AA': [] \n",
    "}\n",
    "\n",
    "def bfs_recursive(level_nodes, goal, depth, max_depth, visited, parent):\n",
    "    if not level_nodes or depth > max_depth:\n",
    "        return None\n",
    "    print(\"Depth\", depth, \":\", level_nodes)\n",
    "    if goal in level_nodes:\n",
    "        path = [goal]\n",
    "        while path[-1] in parent:\n",
    "            path.append(parent[path[-1]])\n",
    "        return path[::-1]\n",
    "    next_level = []\n",
    "    for node in level_nodes:\n",
    "        for nbr in network_map[node]:\n",
    "            if nbr not in visited:\n",
    "                visited.add(nbr)\n",
    "                parent[nbr] = node\n",
    "                next_level.append(nbr)\n",
    "    return bfs_recursive(next_level, goal, depth + 1, max_depth, visited, parent)\n",
    "\n",
    "start = 'P'\n",
    "goal = input(\"Enter goal node: \")\n",
    "limit = int(input(\"Enter max depth: \"))\n",
    "\n",
    "visited = {start}\n",
    "parent = {}\n",
    "path = bfs_recursive([start], goal, 0, limit, visited, parent)\n",
    "\n",
    "if path:\n",
    "    print(\"Path found:\", path)\n",
    "else:\n",
    "    print(\"No path found within depth limit.\")\n"
   ]
  },
  {
   "cell_type": "code",
   "execution_count": 16,
   "id": "210c9940-8076-4538-b05a-e7acb99200bc",
   "metadata": {},
   "outputs": [
    {
     "name": "stdout",
     "output_type": "stream",
     "text": [
      "Enter the goal state:  AA\n"
     ]
    },
    {
     "name": "stdout",
     "output_type": "stream",
     "text": [
      "Visiting: P\n",
      "Visiting: Q\n",
      "Visiting: R\n",
      "Visiting: S\n",
      "Visiting: T\n",
      "Visiting: U\n",
      "Visiting: V\n",
      "Visiting: W\n",
      "Visiting: X\n",
      "Visiting: Y\n",
      "Visiting: Z\n",
      "Visiting: AA\n",
      "Path found: ['P', 'R', 'U', 'Y', 'AA']\n"
     ]
    }
   ],
   "source": [
    "from collections import deque\n",
    "\n",
    "# Graph definition (changed nodes to look different)\n",
    "network_map = { \n",
    "    'P': ['Q', 'R'], \n",
    "    'Q': ['S', 'T'], \n",
    "    'R': ['U'], \n",
    "    'S': ['V', 'W'], \n",
    "    'T': [], \n",
    "    'U': ['X', 'Y'], \n",
    "    'V': [], \n",
    "    'W': ['Z'], \n",
    "    'X': [], \n",
    "    'Y': ['AA'], \n",
    "    'Z': [], \n",
    "    'AA': [] \n",
    "}\n",
    "\n",
    "def bfs_with_queue(start_node, target_node):\n",
    "    visited = set()\n",
    "    queue = deque([[start_node]])   # queue stores paths\n",
    "    \n",
    "    while queue:\n",
    "        path = queue.popleft()      # get first path\n",
    "        current = path[-1]          # last node in path\n",
    "        print(\"Visiting:\", current)\n",
    "        \n",
    "        if current == target_node:  # goal found\n",
    "            return path\n",
    "        \n",
    "        if current not in visited:\n",
    "            visited.add(current)\n",
    "            for neighbor in network_map[current]:\n",
    "                new_path = list(path)\n",
    "                new_path.append(neighbor)\n",
    "                queue.append(new_path)\n",
    "    \n",
    "    return None\n",
    "\n",
    "\n",
    "# ---- MAIN PROGRAM ----\n",
    "origin = 'P'\n",
    "destination = input(\"Enter the goal state: \")\n",
    "\n",
    "final_path = bfs_with_queue(origin, destination)\n",
    "\n",
    "if final_path:\n",
    "    print(\"Path found:\", final_path)\n",
    "else:\n",
    "    print(\"No path found.\")"
   ]
  },
  {
   "cell_type": "code",
   "execution_count": null,
   "id": "957aabb7",
   "metadata": {},
   "outputs": [],
   "source": []
  }
 ],
 "metadata": {
  "kernelspec": {
   "display_name": "Python 3",
   "language": "python",
   "name": "python3"
  },
  "language_info": {
   "codemirror_mode": {
    "name": "ipython",
    "version": 3
   },
   "file_extension": ".py",
   "mimetype": "text/x-python",
   "name": "python",
   "nbconvert_exporter": "python",
   "pygments_lexer": "ipython3",
   "version": "3.11.9"
  }
 },
 "nbformat": 4,
 "nbformat_minor": 5
}
